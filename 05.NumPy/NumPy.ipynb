{
 "cells": [
  {
   "cell_type": "markdown",
   "metadata": {},
   "source": [
    "## 1. 使用ndarray创建多维数组"
   ]
  },
  {
   "cell_type": "code",
   "execution_count": 12,
   "metadata": {},
   "outputs": [],
   "source": [
    "# 导入numpy函数库并指定库的别名\n",
    "import numpy as np\n",
    "# 创建一维数组\n",
    "array1 = np.array([1, 2, 3, 4])\n",
    "# 创建二维数组\n",
    "array2 = np.array([[1, 2, 3, 4],[5, 6, 7, 8]])\n",
    "# 创建三维数组\n",
    "array3 = np.array([[[1, 2, 3, 4],[5, 6, 7, 8],[9, 10, 11, 12]],[[1, 2, 3, 4],[5, 6, 7, 8],[9, 10, 11, 12]]])"
   ]
  },
  {
   "cell_type": "code",
   "execution_count": 25,
   "metadata": {},
   "outputs": [
    {
     "data": {
      "text/plain": [
       "array([1, 2, 3, 4])"
      ]
     },
     "execution_count": 25,
     "metadata": {},
     "output_type": "execute_result"
    }
   ],
   "source": [
    "array1"
   ]
  },
  {
   "cell_type": "code",
   "execution_count": 26,
   "metadata": {},
   "outputs": [
    {
     "data": {
      "text/plain": [
       "array([[1, 2, 3, 4],\n",
       "       [5, 6, 7, 8]])"
      ]
     },
     "execution_count": 26,
     "metadata": {},
     "output_type": "execute_result"
    }
   ],
   "source": [
    "array2"
   ]
  },
  {
   "cell_type": "code",
   "execution_count": 13,
   "metadata": {},
   "outputs": [
    {
     "data": {
      "text/plain": [
       "array([[[ 1,  2,  3,  4],\n",
       "        [ 5,  6,  7,  8],\n",
       "        [ 9, 10, 11, 12]],\n",
       "\n",
       "       [[ 1,  2,  3,  4],\n",
       "        [ 5,  6,  7,  8],\n",
       "        [ 9, 10, 11, 12]]])"
      ]
     },
     "execution_count": 13,
     "metadata": {},
     "output_type": "execute_result"
    }
   ],
   "source": [
    "array3"
   ]
  },
  {
   "cell_type": "markdown",
   "metadata": {},
   "source": [
    "## 2. ndarray与list执行效率的对比"
   ]
  },
  {
   "cell_type": "code",
   "execution_count": 5,
   "metadata": {},
   "outputs": [
    {
     "name": "stdout",
     "output_type": "stream",
     "text": [
      "CPU times: user 40.8 ms, sys: 70 µs, total: 40.8 ms\n",
      "Wall time: 40.9 ms\n",
      "CPU times: user 4.07 ms, sys: 0 ns, total: 4.07 ms\n",
      "Wall time: 3.87 ms\n"
     ]
    }
   ],
   "source": [
    "import random\n",
    "import numpy as np\n",
    "# 定义一个空列表用于存放(数组)元素\n",
    "lst = []\n",
    "# 向lst中添加一千万个元素\n",
    "for i in range(10000000):\n",
    "    lst.append(random.random())\n",
    "%time sum01 = sum(lst) # 使用Python中的sum函数对数组元素进行求和；%time是魔法方法，可以查看当前行代码运行一次需要花费的时间。\n",
    "lst2 = np.array(lst) # 将lst的存储方式转换成ndarray中的存储方式\n",
    "%time sum02 = np.sum(lst2) # 使用ndarray中的sum对同样的数组进行求和"
   ]
  },
  {
   "cell_type": "code",
   "execution_count": null,
   "metadata": {},
   "outputs": [],
   "source": [
    "CPU times: user 41.1 ms, sys: 0 n s, total: 41.1 ms\n",
    "Wall time: 41.1 ms\n",
    "CPU times: user 3.86 ms, sys: 0 ns, total: 3.86 ms\n",
    "Wall time: 3.87 ms"
   ]
  },
  {
   "cell_type": "code",
   "execution_count": null,
   "metadata": {},
   "outputs": [],
   "source": [
    "CPU times: user 40.8 ms, sys: 87 µs, total: 40.9 ms\n",
    "Wall time: 40.9 ms\n",
    "CPU times: user 4.23 ms, sys: 31 µs, total: 4.26 ms\n",
    "Wall time: 4.07 ms"
   ]
  },
  {
   "cell_type": "markdown",
   "metadata": {},
   "source": [
    "## 3. ndarray数组的属性"
   ]
  },
  {
   "cell_type": "markdown",
   "metadata": {},
   "source": [
    "### 3.1 获取数组的维度"
   ]
  },
  {
   "cell_type": "code",
   "execution_count": 9,
   "metadata": {},
   "outputs": [
    {
     "data": {
      "text/plain": [
       "(3, 4)"
      ]
     },
     "execution_count": 9,
     "metadata": {},
     "output_type": "execute_result"
    }
   ],
   "source": [
    "# 导入numpy模块并为模块设置别名\n",
    "import numpy as np\n",
    "# 创建一个维度是3行4列的ndarray数组\n",
    "array01 = np.array([\n",
    "    [80, 78, 98, 88],\n",
    "    [89, 87, 89, 78],\n",
    "    [78, 84, 89, 87]\n",
    "])\n",
    "array01.shape"
   ]
  },
  {
   "cell_type": "markdown",
   "metadata": {},
   "source": [
    "### 3.2 获取数组的维数"
   ]
  },
  {
   "cell_type": "code",
   "execution_count": 10,
   "metadata": {},
   "outputs": [
    {
     "data": {
      "text/plain": [
       "2"
      ]
     },
     "execution_count": 10,
     "metadata": {},
     "output_type": "execute_result"
    }
   ],
   "source": [
    "# 导入numpy模块并为模块设置别名\n",
    "import numpy as np\n",
    "# 创建一个维度是3行4列的ndarray数组\n",
    "array01 = np.array([\n",
    "    [80, 78, 98, 88],\n",
    "    [89, 87, 89, 78],\n",
    "    [78, 84, 89, 87]\n",
    "])\n",
    "array01.ndim"
   ]
  },
  {
   "cell_type": "markdown",
   "metadata": {},
   "source": [
    "### 3.3 获取数组中的元素数量"
   ]
  },
  {
   "cell_type": "code",
   "execution_count": 15,
   "metadata": {
    "scrolled": true
   },
   "outputs": [
    {
     "data": {
      "text/plain": [
       "12"
      ]
     },
     "execution_count": 15,
     "metadata": {},
     "output_type": "execute_result"
    }
   ],
   "source": [
    "# 导入numpy模块并为模块设置别名\n",
    "import numpy as np\n",
    "# 创建一个维度是3行4列的ndarray数组\n",
    "array01 = np.array([\n",
    "    [80, 78, 98, 88],\n",
    "    [89, 87, 89, 78],\n",
    "    [78, 84, 89, 87]\n",
    "])\n",
    "array01.size"
   ]
  },
  {
   "cell_type": "markdown",
   "metadata": {},
   "source": [
    "### 3.4 获取一个数组元素的长度（字节）"
   ]
  },
  {
   "cell_type": "code",
   "execution_count": 16,
   "metadata": {},
   "outputs": [
    {
     "data": {
      "text/plain": [
       "8"
      ]
     },
     "execution_count": 16,
     "metadata": {},
     "output_type": "execute_result"
    }
   ],
   "source": [
    "# 导入numpy模块并为模块设置别名\n",
    "import numpy as np\n",
    "# 创建一个维度是3行4列的ndarray数组\n",
    "array01 = np.array([\n",
    "    [80, 78, 98, 88],\n",
    "    [89, 87, 89, 78],\n",
    "    [78, 84, 89, 87]\n",
    "])\n",
    "array01.itemsize"
   ]
  },
  {
   "cell_type": "markdown",
   "metadata": {},
   "source": [
    "### 3.5 获取数组元素的类型"
   ]
  },
  {
   "cell_type": "code",
   "execution_count": 17,
   "metadata": {},
   "outputs": [
    {
     "data": {
      "text/plain": [
       "dtype('int64')"
      ]
     },
     "execution_count": 17,
     "metadata": {},
     "output_type": "execute_result"
    }
   ],
   "source": [
    "# 导入numpy模块并为模块设置别名\n",
    "import numpy as np\n",
    "# 创建一个维度是3行4列的ndarray数组\n",
    "array01 = np.array([\n",
    "    [80, 78, 98, 88],\n",
    "    [89, 87, 89, 78],\n",
    "    [78, 84, 89, 87]\n",
    "])\n",
    "array01.dtype"
   ]
  },
  {
   "cell_type": "markdown",
   "metadata": {},
   "source": [
    "## 4. ndarray数组的形状"
   ]
  },
  {
   "cell_type": "code",
   "execution_count": 32,
   "metadata": {},
   "outputs": [
    {
     "data": {
      "text/plain": [
       "array([1, 2, 3, 4, 5])"
      ]
     },
     "execution_count": 32,
     "metadata": {},
     "output_type": "execute_result"
    }
   ],
   "source": [
    "# 导入numpy函数库并指定库的别名\n",
    "import numpy as np\n",
    "a = np.array([1, 2, 3, 4, 5])\n",
    "a"
   ]
  },
  {
   "cell_type": "code",
   "execution_count": 36,
   "metadata": {},
   "outputs": [
    {
     "data": {
      "text/plain": [
       "(5,)"
      ]
     },
     "execution_count": 36,
     "metadata": {},
     "output_type": "execute_result"
    }
   ],
   "source": [
    "a.shape"
   ]
  },
  {
   "cell_type": "code",
   "execution_count": 35,
   "metadata": {},
   "outputs": [
    {
     "data": {
      "text/plain": [
       "array([[1, 2, 3, 4, 5],\n",
       "       [4, 5, 6, 7, 8]])"
      ]
     },
     "execution_count": 35,
     "metadata": {},
     "output_type": "execute_result"
    }
   ],
   "source": [
    "# 导入numpy函数库并指定库的别名\n",
    "import numpy as np\n",
    "b = np.array([\n",
    "    [1, 2, 3, 4, 5],\n",
    "    [4, 5, 6, 7, 8]\n",
    "])\n",
    "b"
   ]
  },
  {
   "cell_type": "code",
   "execution_count": 37,
   "metadata": {},
   "outputs": [
    {
     "data": {
      "text/plain": [
       "(2, 5)"
      ]
     },
     "execution_count": 37,
     "metadata": {},
     "output_type": "execute_result"
    }
   ],
   "source": [
    "b.shape"
   ]
  },
  {
   "cell_type": "code",
   "execution_count": 26,
   "metadata": {},
   "outputs": [
    {
     "data": {
      "text/plain": [
       "array([[[ 1,  2,  3,  4,  5],\n",
       "        [ 4,  5,  6,  7,  8]],\n",
       "\n",
       "       [[ 9, 10, 11, 12, 13],\n",
       "        [14, 15, 16, 17, 18]]])"
      ]
     },
     "execution_count": 26,
     "metadata": {},
     "output_type": "execute_result"
    }
   ],
   "source": [
    "# 导入numpy函数库并指定库的别名\n",
    "import numpy as np\n",
    "c = np.array([\n",
    "    [[1, 2, 3, 4, 5],\n",
    "    [4, 5, 6, 7, 8]],\n",
    "    [[9, 10, 11, 12, 13],\n",
    "    [14, 15, 16, 17, 18]]\n",
    "])\n",
    "c"
   ]
  },
  {
   "cell_type": "code",
   "execution_count": 38,
   "metadata": {},
   "outputs": [
    {
     "data": {
      "text/plain": [
       "(2, 2, 5)"
      ]
     },
     "execution_count": 38,
     "metadata": {},
     "output_type": "execute_result"
    }
   ],
   "source": [
    "c.shape"
   ]
  },
  {
   "cell_type": "markdown",
   "metadata": {},
   "source": [
    "## 5. ndarray数组的类型"
   ]
  },
  {
   "cell_type": "code",
   "execution_count": null,
   "metadata": {},
   "outputs": [],
   "source": [
    "例1：不指定数组类型(整型)"
   ]
  },
  {
   "cell_type": "code",
   "execution_count": 76,
   "metadata": {},
   "outputs": [
    {
     "data": {
      "text/plain": [
       "dtype('int64')"
      ]
     },
     "execution_count": 76,
     "metadata": {},
     "output_type": "execute_result"
    }
   ],
   "source": [
    "import numpy as np\n",
    "a = np.array([\n",
    "    [[1, 2, 3, 4, 5, 6],\n",
    "    [7, 8, 9, 10, 11,12],\n",
    "    [12, 13, 14, 15, 16,17]],\n",
    "    [[1, 2, 3, 4, 5, 6],\n",
    "    [7, 8, 9, 10, 11,12],\n",
    "    [12, 13, 14, 15, 16,12]]\n",
    "])\n",
    "a.dtype"
   ]
  },
  {
   "cell_type": "code",
   "execution_count": null,
   "metadata": {},
   "outputs": [],
   "source": [
    "例2：不指定数组类型(小数)"
   ]
  },
  {
   "cell_type": "code",
   "execution_count": 77,
   "metadata": {},
   "outputs": [
    {
     "data": {
      "text/plain": [
       "dtype('float64')"
      ]
     },
     "execution_count": 77,
     "metadata": {},
     "output_type": "execute_result"
    }
   ],
   "source": [
    "import numpy as np\n",
    "a = np.array([\n",
    "    [[1.1, 2, 3, 4, 5, 6],\n",
    "    [7, 8, 9, 10, 11,12],\n",
    "    [12, 13, 14, 15, 16,17]],\n",
    "    [[1, 2, 3, 4, 5, 6],\n",
    "    [7, 8, 9, 10, 11,12],\n",
    "    [12, 13, 14, 15, 16,12]]\n",
    "])\n",
    "a.dtype"
   ]
  },
  {
   "cell_type": "code",
   "execution_count": null,
   "metadata": {},
   "outputs": [],
   "source": [
    "例3：指定数组类型"
   ]
  },
  {
   "cell_type": "code",
   "execution_count": 79,
   "metadata": {},
   "outputs": [
    {
     "name": "stdout",
     "output_type": "stream",
     "text": [
      "[[[ 1.  2.  3.  4.  5.  6.]\n",
      "  [ 7.  8.  9. 10. 11. 12.]\n",
      "  [12. 13. 14. 15. 16. 17.]]\n",
      "\n",
      " [[ 1.  2.  3.  4.  5.  6.]\n",
      "  [ 7.  8.  9. 10. 11. 12.]\n",
      "  [12. 13. 14. 15. 16. 12.]]]\n"
     ]
    },
    {
     "data": {
      "text/plain": [
       "dtype('float64')"
      ]
     },
     "execution_count": 79,
     "metadata": {},
     "output_type": "execute_result"
    }
   ],
   "source": [
    "import numpy as np\n",
    "a = np.array([\n",
    "    [[1, 2, 3, 4, 5, 6],\n",
    "    [7, 8, 9, 10, 11,12],\n",
    "    [12, 13, 14, 15, 16,17]],\n",
    "    [[1, 2, 3, 4, 5, 6],\n",
    "    [7, 8, 9, 10, 11,12],\n",
    "    [12, 13, 14, 15, 16,12]]\n",
    "], dtype=np.float64)\n",
    "print(a)\n",
    "a.dtype"
   ]
  },
  {
   "cell_type": "markdown",
   "metadata": {},
   "source": [
    "例4：指定数组类型"
   ]
  },
  {
   "cell_type": "code",
   "execution_count": 82,
   "metadata": {},
   "outputs": [
    {
     "data": {
      "text/plain": [
       "array(['I', 'Like', 'qianqian'], dtype='<U8')"
      ]
     },
     "execution_count": 82,
     "metadata": {},
     "output_type": "execute_result"
    }
   ],
   "source": [
    "import numpy as np\n",
    "a = np.array(['I', 'Like' ,'qianqian'])\n",
    "a"
   ]
  },
  {
   "cell_type": "code",
   "execution_count": 83,
   "metadata": {},
   "outputs": [
    {
     "data": {
      "text/plain": [
       "array([b'I', b'Like', b'qianqian'], dtype='|S8')"
      ]
     },
     "execution_count": 83,
     "metadata": {},
     "output_type": "execute_result"
    }
   ],
   "source": [
    "import numpy as np\n",
    "a = np.array(['I', 'Like' ,'qianqian'], dtype=np.string_)\n",
    "a"
   ]
  },
  {
   "cell_type": "markdown",
   "metadata": {},
   "source": [
    "### 5.8 ndarray数组的基本操作"
   ]
  },
  {
   "cell_type": "code",
   "execution_count": null,
   "metadata": {},
   "outputs": [],
   "source": []
  }
 ],
 "metadata": {
  "kernelspec": {
   "display_name": "Python 3",
   "language": "python",
   "name": "python3"
  },
  "language_info": {
   "codemirror_mode": {
    "name": "ipython",
    "version": 3
   },
   "file_extension": ".py",
   "mimetype": "text/x-python",
   "name": "python",
   "nbconvert_exporter": "python",
   "pygments_lexer": "ipython3",
   "version": "3.7.5"
  }
 },
 "nbformat": 4,
 "nbformat_minor": 4
}
